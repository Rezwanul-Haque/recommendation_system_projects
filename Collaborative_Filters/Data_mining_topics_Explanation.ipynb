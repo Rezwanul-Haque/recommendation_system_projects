{
 "cells": [
  {
   "cell_type": "code",
   "execution_count": 5,
   "metadata": {},
   "outputs": [],
   "source": [
    "import numpy as np"
   ]
  },
  {
   "cell_type": "markdown",
   "metadata": {},
   "source": [
    "# Euclidean distance"
   ]
  },
  {
   "cell_type": "code",
   "execution_count": 1,
   "metadata": {},
   "outputs": [],
   "source": [
    "# Function to compute Euclidean distance.\n",
    "def euclidean(v1, v2):\n",
    "    # Convert 1-D Python lists to numpy vectors\n",
    "    v1 = np.array(v1)\n",
    "    v2 = np.array(v2)\n",
    "    \n",
    "    # Compute vector which is the element wise square of the difference\n",
    "    diff = np.power(np.array(v1) - np.array(v2), 2)\n",
    "    \n",
    "    # Perform summation of the elements of the above vector\n",
    "    sigma_val = np.sum(diff)\n",
    "    \n",
    "    # Compute square root and return final Euclidean score\n",
    "    euclid_score = np.sqrt(sigma_val)\n",
    "    \n",
    "    return euclid_score"
   ]
  },
  {
   "cell_type": "code",
   "execution_count": 2,
   "metadata": {},
   "outputs": [],
   "source": [
    "# Define 3 users with ratings for 5 movies\n",
    "u1 = [5, 1, 2, 4, 5]\n",
    "u2 = [1, 5, 4, 2, 1]\n",
    "u3 = [5, 2, 2, 4, 4]"
   ]
  },
  {
   "cell_type": "code",
   "execution_count": 6,
   "metadata": {},
   "outputs": [
    {
     "data": {
      "text/plain": [
       "7.483314773547883"
      ]
     },
     "execution_count": 6,
     "metadata": {},
     "output_type": "execute_result"
    }
   ],
   "source": [
    "euclidean(u1, u2)"
   ]
  },
  {
   "cell_type": "code",
   "execution_count": 7,
   "metadata": {},
   "outputs": [
    {
     "data": {
      "text/plain": [
       "1.4142135623730951"
      ]
     },
     "execution_count": 7,
     "metadata": {},
     "output_type": "execute_result"
    }
   ],
   "source": [
    "euclidean(u1, u3) \n",
    "\n",
    "# Insight: The lower the Euclidean score (or distance), the more similar the two vectors are to each other"
   ]
  },
  {
   "cell_type": "code",
   "execution_count": 8,
   "metadata": {},
   "outputs": [
    {
     "data": {
      "text/plain": [
       "2.23606797749979"
      ]
     },
     "execution_count": 8,
     "metadata": {},
     "output_type": "execute_result"
    }
   ],
   "source": [
    "alice = [1, 1, 3, 2, 4]\n",
    "bob = [2, 2, 4, 3, 5]\n",
    "\n",
    "euclidean(alice, bob)"
   ]
  },
  {
   "cell_type": "code",
   "execution_count": 9,
   "metadata": {},
   "outputs": [
    {
     "data": {
      "text/plain": [
       "6.324555320336759"
      ]
     },
     "execution_count": 9,
     "metadata": {},
     "output_type": "execute_result"
    }
   ],
   "source": [
    "eve = [5, 5, 3, 4, 2]\n",
    "\n",
    "euclidean(eve, alice)"
   ]
  },
  {
   "cell_type": "markdown",
   "metadata": {},
   "source": [
    "# Pearson correlation"
   ]
  },
  {
   "cell_type": "code",
   "execution_count": 10,
   "metadata": {},
   "outputs": [
    {
     "data": {
      "text/plain": [
       "(1.0, 0.0)"
      ]
     },
     "execution_count": 10,
     "metadata": {},
     "output_type": "execute_result"
    }
   ],
   "source": [
    "from scipy.stats import pearsonr\n",
    "\n",
    "pearsonr(alice, bob)"
   ]
  },
  {
   "cell_type": "code",
   "execution_count": 11,
   "metadata": {},
   "outputs": [
    {
     "data": {
      "text/plain": [
       "(-1.0, 0.0)"
      ]
     },
     "execution_count": 11,
     "metadata": {},
     "output_type": "execute_result"
    }
   ],
   "source": [
    "pearsonr(alice, eve)"
   ]
  },
  {
   "cell_type": "code",
   "execution_count": 12,
   "metadata": {},
   "outputs": [
    {
     "data": {
      "text/plain": [
       "(-1.0, 0.0)"
      ]
     },
     "execution_count": 12,
     "metadata": {},
     "output_type": "execute_result"
    }
   ],
   "source": [
    "pearsonr(bob, eve)"
   ]
  },
  {
   "cell_type": "markdown",
   "metadata": {},
   "source": [
    "# Cosine similarity"
   ]
  },
  {
   "cell_type": "code",
   "execution_count": 13,
   "metadata": {},
   "outputs": [],
   "source": [
    "# The cosine similarity score computes the cosine of the angle between two vectors in an n-dimensional\n",
    "# space. When the cosine score is 1 (or angle is 0), the vectors are exactly similar. On the other hand, a\n",
    "# cosine score of -1 (or angle 180 degrees) denotes that the two vectors are exactly dissimilar to each other"
   ]
  },
  {
   "cell_type": "markdown",
   "metadata": {},
   "source": [
    "# Clustering"
   ]
  },
  {
   "cell_type": "markdown",
   "metadata": {},
   "source": [
    "## K-mean clustering"
   ]
  },
  {
   "cell_type": "code",
   "execution_count": 21,
   "metadata": {},
   "outputs": [
    {
     "name": "stderr",
     "output_type": "stream",
     "text": [
      "D:\\Rezwanul-Haque\\Installed_App\\Anaconda3\\lib\\importlib\\_bootstrap.py:219: RuntimeWarning: numpy.ufunc size changed, may indicate binary incompatibility. Expected 192 from C header, got 216 from PyObject\n",
      "  return f(*args, **kwds)\n",
      "D:\\Rezwanul-Haque\\Installed_App\\Anaconda3\\lib\\importlib\\_bootstrap.py:219: RuntimeWarning: numpy.ufunc size changed, may indicate binary incompatibility. Expected 192 from C header, got 216 from PyObject\n",
      "  return f(*args, **kwds)\n"
     ]
    },
    {
     "data": {
      "text/plain": [
       "<matplotlib.collections.PathCollection at 0x209ab43cda0>"
      ]
     },
     "execution_count": 21,
     "metadata": {},
     "output_type": "execute_result"
    },
    {
     "data": {
      "image/png": "[encoded data removed]",
      "text/plain": [
       "<Figure size 432x288 with 1 Axes>"
      ]
     },
     "metadata": {
      "needs_background": "light"
     },
     "output_type": "display_data"
    }
   ],
   "source": [
    "# Import the function that enables us to plot clusters\n",
    "import matplotlib.pyplot as plt\n",
    "import seaborn as sns\n",
    "from sklearn.datasets.samples_generator import make_blobs\n",
    "\n",
    "# Get points such that they can form 3 visually separable clusters\n",
    "X, y = make_blobs(n_samples=300, centers=3, cluster_std=0.50, random_state=0)\n",
    "\n",
    "# plot the points on a scatterplot\n",
    "plt.scatter(X[:, 0], X[:, 1], s=50)"
   ]
  },
  {
   "cell_type": "code",
   "execution_count": 11,
   "metadata": {},
   "outputs": [
    {
     "data": {
      "text/plain": [
       "300"
      ]
     },
     "execution_count": 11,
     "metadata": {},
     "output_type": "execute_result"
    }
   ],
   "source": [
    "y.size"
   ]
  },
  {
   "cell_type": "code",
   "execution_count": 18,
   "metadata": {},
   "outputs": [
    {
     "data": {
      "text/plain": [
       "<matplotlib.collections.PathCollection at 0x209a8584b70>"
      ]
     },
     "execution_count": 18,
     "metadata": {},
     "output_type": "execute_result"
    },
    {
     "data": {
      "image/png": "[encoded data removed]",
      "text/plain": [
       "<Figure size 432x288 with 1 Axes>"
      ]
     },
     "metadata": {
      "needs_background": "light"
     },
     "output_type": "display_data"
    }
   ],
   "source": [
    "# Importing the k-means class\n",
    "from sklearn.cluster import KMeans\n",
    "\n",
    "# Initializer the K-Means object, set number of clusters to 3,\n",
    "# centroid initialization as 'random' and maximum iterations to 10\n",
    "kmeans = KMeans(n_clusters=3, init='random', max_iter=10)\n",
    "\n",
    "# compute the k-means clustering\n",
    "kmeans.fit(X)\n",
    "\n",
    "# predict the classes for every point\n",
    "y_pred = kmeans.predict(X)\n",
    "\n",
    "# plot the data points again but with different colors for different classes\n",
    "plt.scatter(X[:, 0], X[:, 1], c=y_pred, s=50)\n",
    "\n",
    "# Get the list of the final centroids\n",
    "centroids = kmeans.cluster_centers_\n",
    "\n",
    "# # plot the centroids onto the same scatterplot.\n",
    "plt.scatter(centroids[:, 0], centroids[:, 1], c='black', s=100, marker=\"X\")"
   ]
  },
  {
   "cell_type": "markdown",
   "metadata": {},
   "source": [
    "## Choosing the value of K"
   ]
  },
  {
   "cell_type": "code",
   "execution_count": null,
   "metadata": {},
   "outputs": [],
   "source": [
    "## Elbow method of determining k\n",
    "\n",
    "#### The Elbow method computes the sum of squares for each value of k and chooses the elbow point of the\n",
    "# sum-of-squares v/s K plot as the best value for k. The elbow point is defined as the value of k at which\n",
    "# the sum-of-squares value for every subsequent k starts decreasing much more slowly"
   ]
  },
  {
   "cell_type": "code",
   "execution_count": 22,
   "metadata": {},
   "outputs": [
    {
     "data": {
      "text/plain": [
       "<matplotlib.axes._subplots.AxesSubplot at 0x209ab46ef60>"
      ]
     },
     "execution_count": 22,
     "metadata": {},
     "output_type": "execute_result"
    },
    {
     "data": {
      "image/png": "[encoded data removed]",
      "text/plain": [
       "<Figure size 432x288 with 1 Axes>"
      ]
     },
     "metadata": {
      "needs_background": "light"
     },
     "output_type": "display_data"
    }
   ],
   "source": [
    "# List that will hold the sum of square values for different cluster sizes\n",
    "ss = []\n",
    "\n",
    "# we will compute SS for cluster sizes between 1 and 8.\n",
    "for i in range(1, 9):\n",
    "    # initialize the kmeans object and call the fit method to compute clusters\n",
    "    kmeans = KMeans(n_clusters=i, random_state=0, max_iter=10, init='random').fit(X)\n",
    "    \n",
    "    # append the value of SS for a particular iteration into the ss list\n",
    "    ss.append(kmeans.inertia_)\n",
    "\n",
    "# plot the Elbow plot of SS v/s K\n",
    "sns.pointplot(x=[j for j in range(1, 9)], y=ss)"
   ]
  },
  {
   "cell_type": "code",
   "execution_count": 23,
   "metadata": {},
   "outputs": [],
   "source": [
    "# From the plot, it is clear that the Elbow is at K=3\n",
    "\n",
    "# The k-means algorithm, although very powerful, is not ideal for every use case"
   ]
  },
  {
   "cell_type": "code",
   "execution_count": 24,
   "metadata": {},
   "outputs": [
    {
     "data": {
      "text/plain": [
       "<matplotlib.collections.PathCollection at 0x209ab571358>"
      ]
     },
     "execution_count": 24,
     "metadata": {},
     "output_type": "execute_result"
    },
    {
     "data": {
      "image/png": "[encoded data removed]",
      "text/plain": [
       "<Figure size 432x288 with 1 Axes>"
      ]
     },
     "metadata": {
      "needs_background": "light"
     },
     "output_type": "display_data"
    }
   ],
   "source": [
    "# CASE: 2\n",
    "# import the half moon function from scikit-learn\n",
    "from sklearn.datasets import make_moons\n",
    "\n",
    "# Get access to points using the make_moons function\n",
    "X_m, y_m = make_moons(200, noise=0.05, random_state=0)\n",
    "\n",
    "# plot the two half moon clusters\n",
    "plt.scatter(X_m[:, 0], X_m[:, 1], s=50)"
   ]
  },
  {
   "cell_type": "code",
   "execution_count": 25,
   "metadata": {},
   "outputs": [
    {
     "data": {
      "text/plain": [
       "<matplotlib.collections.PathCollection at 0x209ab5fe320>"
      ]
     },
     "execution_count": 25,
     "metadata": {},
     "output_type": "execute_result"
    },
    {
     "data": {
      "image/png": "[encoded data removed]",
      "text/plain": [
       "<Figure size 432x288 with 1 Axes>"
      ]
     },
     "metadata": {
      "needs_background": "light"
     },
     "output_type": "display_data"
    }
   ],
   "source": [
    "# Checking if K-means find the two half moons correctly.\n",
    "# initialize K-means object with k=2 (for two half moons) and fit it to our data\n",
    "kmm = KMeans(n_clusters=2, init='random', max_iter=10)\n",
    "kmm.fit(X_m)\n",
    "\n",
    "# predict the classes for the data points\n",
    "y_m_pred = kmm.predict(X_m)\n",
    "\n",
    "# plot the colored clusters as identified by K-means\n",
    "plt.scatter(X_m[:, 0], X_m[:, 1], c=y_m_pred, s=50)"
   ]
  },
  {
   "cell_type": "code",
   "execution_count": 26,
   "metadata": {},
   "outputs": [],
   "source": [
    "# k-means algorithm doesn't do a very good job of identifying the correct clusters"
   ]
  },
  {
   "cell_type": "code",
   "execution_count": 28,
   "metadata": {},
   "outputs": [
    {
     "name": "stderr",
     "output_type": "stream",
     "text": [
      "D:\\Rezwanul-Haque\\Installed_App\\Anaconda3\\lib\\site-packages\\sklearn\\manifold\\spectral_embedding_.py:235: UserWarning: Graph is not fully connected, spectral embedding may not work as expected.\n",
      "  warnings.warn(\"Graph is not fully connected, spectral embedding\"\n"
     ]
    },
    {
     "data": {
      "text/plain": [
       "<matplotlib.collections.PathCollection at 0x209abedf6a0>"
      ]
     },
     "execution_count": 28,
     "metadata": {},
     "output_type": "execute_result"
    },
    {
     "data": {
      "image/png": "[encoded data removed]",
      "text/plain": [
       "<Figure size 432x288 with 1 Axes>"
      ]
     },
     "metadata": {
      "needs_background": "light"
     },
     "output_type": "display_data"
    }
   ],
   "source": [
    "# clusters such as these half moons, another algorithm, called spectral clustering, with nearest-neighbor,\n",
    "# affinity performs much better\n",
    "# Import Spectral clustering from scikit-learn\n",
    "from sklearn.cluster import SpectralClustering\n",
    "\n",
    "# Define the Spectral Clustering Model\n",
    "model = SpectralClustering(n_clusters=2, affinity='nearest_neighbors')\n",
    "\n",
    "# fit and predict the labels\n",
    "y_m_sc = model.fit_predict(X_m)\n",
    "\n",
    "# Plot the colored clusters as identified by Spectral Clustering\n",
    "plt.scatter(X_m[:, 0], X_m[:, 1], c=y_m_sc, s=50)"
   ]
  },
  {
   "cell_type": "markdown",
   "metadata": {},
   "source": [
    "# Dimensionality reduction"
   ]
  },
  {
   "cell_type": "markdown",
   "metadata": {},
   "source": [
    "### Most machine learning algorithms tend to perform poorly as the number of dimensions in the data\n",
    "### increases. This phenomenon is often known as the curse of dimensionality\n",
    "### There are two ways to achieve this\n",
    "* Feature selection\n",
    "* Feature extraction"
   ]
  },
  {
   "cell_type": "markdown",
   "metadata": {},
   "source": [
    "### Principal component analysis (or PCA)"
   ]
  },
  {
   "cell_type": "code",
   "execution_count": 30,
   "metadata": {},
   "outputs": [],
   "source": [
    "# Principal component analysis is an unsupervised feature extraction algorithm that takes in m-dimensional\n",
    "# input to create a set of n (m >> n) linearly uncorrelated variables (called principal components) in such a\n",
    "# way that the n dimensions lose as little variance (or information) as possible due to the loss of the (m-n)\n",
    "# dimensions.\n",
    "\n",
    "# PCA tries to identify the first principal component, which will hold the maximum possible variance. It does so by defining a new\n",
    "# dimension using the two highly correlated variables. Now, it tries to define the next dimension in such a\n",
    "# way that it holds the maximum variance, is orthogonal to the first principal component constructed, and\n",
    "# also is uncorrelated to it"
   ]
  },
  {
   "cell_type": "code",
   "execution_count": 35,
   "metadata": {},
   "outputs": [
    {
     "data": {
      "text/html": [
       "<div>\n",
       "<style scoped>\n",
       "    .dataframe tbody tr th:only-of-type {\n",
       "        vertical-align: middle;\n",
       "    }\n",
       "\n",
       "    .dataframe tbody tr th {\n",
       "        vertical-align: top;\n",
       "    }\n",
       "\n",
       "    .dataframe thead th {\n",
       "        text-align: right;\n",
       "    }\n",
       "</style>\n",
       "<table border=\"1\" class=\"dataframe\">\n",
       "  <thead>\n",
       "    <tr style=\"text-align: right;\">\n",
       "      <th></th>\n",
       "      <th>sepal_length</th>\n",
       "      <th>sepal_width</th>\n",
       "      <th>petal_length</th>\n",
       "      <th>petal_width</th>\n",
       "      <th>class</th>\n",
       "    </tr>\n",
       "  </thead>\n",
       "  <tbody>\n",
       "    <tr>\n",
       "      <th>0</th>\n",
       "      <td>5.1</td>\n",
       "      <td>3.5</td>\n",
       "      <td>1.4</td>\n",
       "      <td>0.2</td>\n",
       "      <td>Iris-setosa</td>\n",
       "    </tr>\n",
       "    <tr>\n",
       "      <th>1</th>\n",
       "      <td>4.9</td>\n",
       "      <td>3.0</td>\n",
       "      <td>1.4</td>\n",
       "      <td>0.2</td>\n",
       "      <td>Iris-setosa</td>\n",
       "    </tr>\n",
       "    <tr>\n",
       "      <th>2</th>\n",
       "      <td>4.7</td>\n",
       "      <td>3.2</td>\n",
       "      <td>1.3</td>\n",
       "      <td>0.2</td>\n",
       "      <td>Iris-setosa</td>\n",
       "    </tr>\n",
       "    <tr>\n",
       "      <th>3</th>\n",
       "      <td>4.6</td>\n",
       "      <td>3.1</td>\n",
       "      <td>1.5</td>\n",
       "      <td>0.2</td>\n",
       "      <td>Iris-setosa</td>\n",
       "    </tr>\n",
       "    <tr>\n",
       "      <th>4</th>\n",
       "      <td>5.0</td>\n",
       "      <td>3.6</td>\n",
       "      <td>1.4</td>\n",
       "      <td>0.2</td>\n",
       "      <td>Iris-setosa</td>\n",
       "    </tr>\n",
       "  </tbody>\n",
       "</table>\n",
       "</div>"
      ],
      "text/plain": [
       "   sepal_length  sepal_width  petal_length  petal_width        class\n",
       "0           5.1          3.5           1.4          0.2  Iris-setosa\n",
       "1           4.9          3.0           1.4          0.2  Iris-setosa\n",
       "2           4.7          3.2           1.3          0.2  Iris-setosa\n",
       "3           4.6          3.1           1.5          0.2  Iris-setosa\n",
       "4           5.0          3.6           1.4          0.2  Iris-setosa"
      ]
     },
     "execution_count": 35,
     "metadata": {},
     "output_type": "execute_result"
    }
   ],
   "source": [
    "import pandas as pd\n",
    "# Load the Iris dataset into Pandas DataFrame\n",
    "iris = pd.read_csv(\"https://archive.ics.uci.edu/ml/machine-learning-databases/iris/iris.data\",\n",
    "                  names=['sepal_length', 'sepal_width', 'petal_length', 'petal_width', 'class'])\n",
    "\n",
    "# display the head of the dataframe\n",
    "iris.head()"
   ]
  },
  {
   "cell_type": "code",
   "execution_count": 36,
   "metadata": {},
   "outputs": [
    {
     "data": {
      "text/html": [
       "<div>\n",
       "<style scoped>\n",
       "    .dataframe tbody tr th:only-of-type {\n",
       "        vertical-align: middle;\n",
       "    }\n",
       "\n",
       "    .dataframe tbody tr th {\n",
       "        vertical-align: top;\n",
       "    }\n",
       "\n",
       "    .dataframe thead th {\n",
       "        text-align: right;\n",
       "    }\n",
       "</style>\n",
       "<table border=\"1\" class=\"dataframe\">\n",
       "  <thead>\n",
       "    <tr style=\"text-align: right;\">\n",
       "      <th></th>\n",
       "      <th>sepal_length</th>\n",
       "      <th>sepal_width</th>\n",
       "      <th>petal_length</th>\n",
       "      <th>petal_width</th>\n",
       "    </tr>\n",
       "  </thead>\n",
       "  <tbody>\n",
       "    <tr>\n",
       "      <th>0</th>\n",
       "      <td>-0.900681</td>\n",
       "      <td>1.032057</td>\n",
       "      <td>-1.341272</td>\n",
       "      <td>-1.312977</td>\n",
       "    </tr>\n",
       "    <tr>\n",
       "      <th>1</th>\n",
       "      <td>-1.143017</td>\n",
       "      <td>-0.124958</td>\n",
       "      <td>-1.341272</td>\n",
       "      <td>-1.312977</td>\n",
       "    </tr>\n",
       "    <tr>\n",
       "      <th>2</th>\n",
       "      <td>-1.385353</td>\n",
       "      <td>0.337848</td>\n",
       "      <td>-1.398138</td>\n",
       "      <td>-1.312977</td>\n",
       "    </tr>\n",
       "    <tr>\n",
       "      <th>3</th>\n",
       "      <td>-1.506521</td>\n",
       "      <td>0.106445</td>\n",
       "      <td>-1.284407</td>\n",
       "      <td>-1.312977</td>\n",
       "    </tr>\n",
       "    <tr>\n",
       "      <th>4</th>\n",
       "      <td>-1.021849</td>\n",
       "      <td>1.263460</td>\n",
       "      <td>-1.341272</td>\n",
       "      <td>-1.312977</td>\n",
       "    </tr>\n",
       "  </tbody>\n",
       "</table>\n",
       "</div>"
      ],
      "text/plain": [
       "   sepal_length  sepal_width  petal_length  petal_width\n",
       "0     -0.900681     1.032057     -1.341272    -1.312977\n",
       "1     -1.143017    -0.124958     -1.341272    -1.312977\n",
       "2     -1.385353     0.337848     -1.398138    -1.312977\n",
       "3     -1.506521     0.106445     -1.284407    -1.312977\n",
       "4     -1.021849     1.263460     -1.341272    -1.312977"
      ]
     },
     "execution_count": 36,
     "metadata": {},
     "output_type": "execute_result"
    }
   ],
   "source": [
    "# The PCA algorithm is extremely sensitive to scale. Therefore, we are going to scale all the features in\n",
    "# such a way that they have a mean of 0 and a variance of 1\n",
    "\n",
    "# import Standard scaler from scikit-learn\n",
    "from sklearn.preprocessing import StandardScaler\n",
    "\n",
    "# Separate the features and the class\n",
    "x = iris.drop('class', axis=1)\n",
    "y = iris['class']\n",
    "\n",
    "# Scale the feature of x\n",
    "X = pd.DataFrame(StandardScaler().fit_transform(x),\n",
    "                columns=['sepal_length', 'sepal_width', 'petal_length', 'petal_width'])\n",
    "\n",
    "X.head()"
   ]
  },
  {
   "cell_type": "code",
   "execution_count": 37,
   "metadata": {},
   "outputs": [
    {
     "data": {
      "text/html": [
       "<div>\n",
       "<style scoped>\n",
       "    .dataframe tbody tr th:only-of-type {\n",
       "        vertical-align: middle;\n",
       "    }\n",
       "\n",
       "    .dataframe tbody tr th {\n",
       "        vertical-align: top;\n",
       "    }\n",
       "\n",
       "    .dataframe thead th {\n",
       "        text-align: right;\n",
       "    }\n",
       "</style>\n",
       "<table border=\"1\" class=\"dataframe\">\n",
       "  <thead>\n",
       "    <tr style=\"text-align: right;\">\n",
       "      <th></th>\n",
       "      <th>PC1</th>\n",
       "      <th>PC2</th>\n",
       "    </tr>\n",
       "  </thead>\n",
       "  <tbody>\n",
       "    <tr>\n",
       "      <th>0</th>\n",
       "      <td>-2.264542</td>\n",
       "      <td>0.505704</td>\n",
       "    </tr>\n",
       "    <tr>\n",
       "      <th>1</th>\n",
       "      <td>-2.086426</td>\n",
       "      <td>-0.655405</td>\n",
       "    </tr>\n",
       "    <tr>\n",
       "      <th>2</th>\n",
       "      <td>-2.367950</td>\n",
       "      <td>-0.318477</td>\n",
       "    </tr>\n",
       "    <tr>\n",
       "      <th>3</th>\n",
       "      <td>-2.304197</td>\n",
       "      <td>-0.575368</td>\n",
       "    </tr>\n",
       "    <tr>\n",
       "      <th>4</th>\n",
       "      <td>-2.388777</td>\n",
       "      <td>0.674767</td>\n",
       "    </tr>\n",
       "  </tbody>\n",
       "</table>\n",
       "</div>"
      ],
      "text/plain": [
       "        PC1       PC2\n",
       "0 -2.264542  0.505704\n",
       "1 -2.086426 -0.655405\n",
       "2 -2.367950 -0.318477\n",
       "3 -2.304197 -0.575368\n",
       "4 -2.388777  0.674767"
      ]
     },
     "execution_count": 37,
     "metadata": {},
     "output_type": "execute_result"
    }
   ],
   "source": [
    "# Transform our data into the two-dimensional space\n",
    "# import PCA\n",
    "from sklearn.decomposition import PCA\n",
    "\n",
    "# initialize a PCA object to transform into the 2D Space.\n",
    "pca = PCA(n_components=2)\n",
    "\n",
    "# Apply PCA\n",
    "pca_iris = pca.fit_transform(X)\n",
    "pca_iris = pd.DataFrame(data=pca_iris, columns=['PC1', 'PC2'])\n",
    "\n",
    "pca_iris.head()\n"
   ]
  },
  {
   "cell_type": "code",
   "execution_count": 38,
   "metadata": {},
   "outputs": [
    {
     "data": {
      "text/plain": [
       "array([0.72770452, 0.23030523])"
      ]
     },
     "execution_count": 38,
     "metadata": {},
     "output_type": "execute_result"
    }
   ],
   "source": [
    "pca.explained_variance_ratio_"
   ]
  },
  {
   "cell_type": "code",
   "execution_count": 39,
   "metadata": {},
   "outputs": [
    {
     "data": {
      "text/plain": [
       "<seaborn.axisgrid.FacetGrid at 0x209aba48b00>"
      ]
     },
     "execution_count": 39,
     "metadata": {},
     "output_type": "execute_result"
    },
    {
     "data": {
      "image/png": "[encoded data removed]",
      "text/plain": [
       "<Figure size 463.5x360 with 1 Axes>"
      ]
     },
     "metadata": {
      "needs_background": "light"
     },
     "output_type": "display_data"
    }
   ],
   "source": [
    "# Concatenate the class variable\n",
    "pca_iris = pd.concat([pca_iris, y], axis=1)\n",
    "\n",
    "# Display the scatterplot\n",
    "sns.lmplot(x='PC1', y='PC2', data=pca_iris, hue='class', fit_reg=False)"
   ]
  },
  {
   "cell_type": "markdown",
   "metadata": {},
   "source": [
    "# Other dimensionality reduction techniques"
   ]
  },
  {
   "cell_type": "markdown",
   "metadata": {},
   "source": [
    "## Linear-discriminant analysis (LDA)"
   ]
  },
  {
   "cell_type": "code",
   "execution_count": null,
   "metadata": {},
   "outputs": [],
   "source": [
    "# linear-discriminant analysis is a linear transformation method that aims to transform mdimensional \n",
    "# data into an n-dimensional output space\n",
    "\n",
    "# LDA aims to identify a set of n features that result in the maximum separation \n",
    "# (or discrimination) of classes. Since LDA requires labeled data in order to \n",
    "# determine its components, it is a type of supervised learning algorithm."
   ]
  },
  {
   "cell_type": "code",
   "execution_count": 40,
   "metadata": {},
   "outputs": [
    {
     "data": {
      "text/plain": [
       "<seaborn.axisgrid.FacetGrid at 0x209adae7588>"
      ]
     },
     "execution_count": 40,
     "metadata": {},
     "output_type": "execute_result"
    },
    {
     "data": {
      "image/png": "[encoded data removed]",
      "text/plain": [
       "<Figure size 463.5x360 with 1 Axes>"
      ]
     },
     "metadata": {
      "needs_background": "light"
     },
     "output_type": "display_data"
    }
   ],
   "source": [
    "# import LDA\n",
    "from sklearn.discriminant_analysis import LinearDiscriminantAnalysis\n",
    "\n",
    "# Define the LDA object to have two components\n",
    "lda = LinearDiscriminantAnalysis(n_components=2)\n",
    "\n",
    "# Apply LDA\n",
    "lda_iris = lda.fit_transform(X, y)\n",
    "lda_iris = pd.DataFrame(data=lda_iris, columns=['C1', 'C2'])\n",
    "\n",
    "# Concatenate the class variable\n",
    "lda_iris = pd.concat([lda_iris, y], axis=1)\n",
    "\n",
    "# Display the scatterplot\n",
    "sns.lmplot(x=\"C1\", y=\"C2\", data=lda_iris, hue=\"class\", fit_reg=False)"
   ]
  },
  {
   "cell_type": "markdown",
   "metadata": {},
   "source": [
    "## Singular value decomposition (SVD)"
   ]
  },
  {
   "cell_type": "code",
   "execution_count": null,
   "metadata": {},
   "outputs": [],
   "source": [
    "# Singular value decomposition, or SVD, is a type of matrix analysis technique that allows us to \n",
    "# represent a high-dimensional matrix in a lower dimension. SVD achieves this by identifying and \n",
    "# removing the less important parts of the matrix and producing an approximation in the desired \n",
    "# number of dimensions"
   ]
  },
  {
   "cell_type": "markdown",
   "metadata": {},
   "source": [
    "## Boosting algorithms"
   ]
  },
  {
   "cell_type": "markdown",
   "metadata": {},
   "source": [
    "### Gradient Boosting"
   ]
  },
  {
   "cell_type": "code",
   "execution_count": 41,
   "metadata": {},
   "outputs": [
    {
     "data": {
      "text/plain": [
       "0.9736842105263158"
      ]
     },
     "execution_count": 41,
     "metadata": {},
     "output_type": "execute_result"
    }
   ],
   "source": [
    "# Divide the dataset into training and test datasets\n",
    "X, y = iris.drop('class', axis=1), iris['class']\n",
    "\n",
    "# Split the data into training and test datasets\n",
    "# train on 75% of the data and assess out performance on 25% of the remaining data\n",
    "\n",
    "# import the train & test spliting function\n",
    "from sklearn.model_selection import train_test_split\n",
    "\n",
    "# split the data into training and test sets\n",
    "X_train, X_test, y_train, y_test = train_test_split(X, y, test_size=0.25, random_state=0)\n",
    "\n",
    "# Import the gradient boosting classifier\n",
    "from sklearn.ensemble import GradientBoostingClassifier\n",
    "\n",
    "# Apply gradient boosting to the training data\n",
    "gbc = GradientBoostingClassifier()\n",
    "gbc.fit(X_train, y_train)\n",
    "\n",
    "# Compute the accuracy on the test set\n",
    "gbc.score(X_test, y_test)"
   ]
  },
  {
   "cell_type": "code",
   "execution_count": 43,
   "metadata": {},
   "outputs": [
    {
     "data": {
      "text/plain": [
       "array([0.00358046, 0.02030067, 0.73907342, 0.23704546])"
      ]
     },
     "execution_count": 43,
     "metadata": {},
     "output_type": "execute_result"
    }
   ],
   "source": [
    "gbc.feature_importances_"
   ]
  },
  {
   "cell_type": "code",
   "execution_count": 42,
   "metadata": {},
   "outputs": [
    {
     "data": {
      "text/plain": [
       "<matplotlib.axes._subplots.AxesSubplot at 0x209ad4befd0>"
      ]
     },
     "execution_count": 42,
     "metadata": {},
     "output_type": "execute_result"
    },
    {
     "data": {
      "image/png": "[encoded data removed]",
      "text/plain": [
       "<Figure size 432x288 with 1 Axes>"
      ]
     },
     "metadata": {
      "needs_background": "light"
     },
     "output_type": "display_data"
    }
   ],
   "source": [
    "# Display a bar plot of the feature importance\n",
    "sns.barplot(x=['senpal_length', 'sepal_width', 'petal_length', 'petal_width'], y=gbc.feature_importances_)"
   ]
  },
  {
   "cell_type": "markdown",
   "metadata": {},
   "source": [
    "# Evaluation metrics"
   ]
  },
  {
   "cell_type": "markdown",
   "metadata": {},
   "source": [
    "* Accuracy\n",
    "* Root mean square error(RMSE)\n",
    "* Binary classification metrics\n",
    "* Precision\n",
    "* Recall\n",
    "* F1 Score"
   ]
  },
  {
   "cell_type": "code",
   "execution_count": null,
   "metadata": {},
   "outputs": [],
   "source": []
  }
 ],
 "metadata": {
  "kernelspec": {
   "display_name": "Python 3",
   "language": "python",
   "name": "python3"
  },
  "language_info": {
   "codemirror_mode": {
    "name": "ipython",
    "version": 3
   },
   "file_extension": ".py",
   "mimetype": "text/x-python",
   "name": "python",
   "nbconvert_exporter": "python",
   "pygments_lexer": "ipython3",
   "version": "3.7.3"
  }
 },
 "nbformat": 4,
 "nbformat_minor": 2
}
